{
  "nbformat": 4,
  "nbformat_minor": 0,
  "metadata": {
    "colab": {
      "name": "DL_faces.ipynb",
      "provenance": [],
      "collapsed_sections": []
    },
    "kernelspec": {
      "name": "python3",
      "display_name": "Python 3"
    },
    "accelerator": "GPU"
  },
  "cells": [
    {
      "cell_type": "code",
      "metadata": {
        "colab": {
          "base_uri": "https://localhost:8080/"
        },
        "id": "nn5qmqxfsJqB",
        "outputId": "7fc33bb9-66a1-4433-9b96-0f7bb0ab4792"
      },
      "source": [
        "!gdown --id 1baHMGphE705ikbV8hCk5_3FtanZ_dpSt"
      ],
      "execution_count": null,
      "outputs": [
        {
          "output_type": "stream",
          "text": [
            "Downloading...\n",
            "From: https://drive.google.com/uc?id=1baHMGphE705ikbV8hCk5_3FtanZ_dpSt\n",
            "To: /content/aligned.tar.gz\n",
            "2.81GB [00:39, 70.6MB/s]\n"
          ],
          "name": "stdout"
        }
      ]
    },
    {
      "cell_type": "code",
      "metadata": {
        "colab": {
          "base_uri": "https://localhost:8080/"
        },
        "id": "biCdkiogsTxz",
        "outputId": "a9da9c16-1127-4bec-ee65-f6af98d8fb68"
      },
      "source": [
        "!gdown --id 1RR1LkayEgPTJql5-ITQmtsoTom9NRoOH"
      ],
      "execution_count": null,
      "outputs": [
        {
          "output_type": "stream",
          "text": [
            "Downloading...\n",
            "From: https://drive.google.com/uc?id=1RR1LkayEgPTJql5-ITQmtsoTom9NRoOH\n",
            "To: /content/train_val_txt_files_per_fold.zip\n",
            "\r0.00B [00:00, ?B/s]\r3.11MB [00:00, 100MB/s]\n"
          ],
          "name": "stdout"
        }
      ]
    },
    {
      "cell_type": "code",
      "metadata": {
        "id": "Wz9labXUsbYs"
      },
      "source": [
        "!unzip -n -q train_val_txt_files_per_fold.zip"
      ],
      "execution_count": null,
      "outputs": []
    },
    {
      "cell_type": "code",
      "metadata": {
        "id": "Ktjp9U4vxPmN"
      },
      "source": [
        "!tar -xf aligned.tar.gz"
      ],
      "execution_count": null,
      "outputs": []
    },
    {
      "cell_type": "code",
      "metadata": {
        "id": "Uvjrw6OnpIHz"
      },
      "source": [
        "!pip install pytorch-lightning\n",
        "!pip install comet-ml\n",
        "!pip install local-attention\n",
        "!pip install einops"
      ],
      "execution_count": null,
      "outputs": []
    },
    {
      "cell_type": "code",
      "metadata": {
        "colab": {
          "base_uri": "https://localhost:8080/",
          "height": 35
        },
        "id": "K9sVTWZsFxzc",
        "outputId": "c0c7b427-34e6-4e93-86de-1ac9a957fc53"
      },
      "source": [
        "from hparams import hyperparams\n",
        "hyperparams.path_to_files"
      ],
      "execution_count": null,
      "outputs": [
        {
          "output_type": "execute_result",
          "data": {
            "application/vnd.google.colaboratory.intrinsic+json": {
              "type": "string"
            },
            "text/plain": [
              "'/content'"
            ]
          },
          "metadata": {
            "tags": []
          },
          "execution_count": 1
        }
      ]
    },
    {
      "cell_type": "code",
      "metadata": {
        "id": "OChDDHPWGx_F"
      },
      "source": [
        "from depen import *\n",
        "from model import Age_Gender_pl\n",
        "from datasets import Adience_pl_dataset\n",
        "\n",
        "from comet_ml import Experiment\n",
        "from pytorch_lightning.loggers import CometLogger\n",
        "from pytorch_lightning import Trainer\n",
        "from pytorch_lightning.callbacks import LearningRateMonitor, ModelCheckpoint"
      ],
      "execution_count": null,
      "outputs": []
    },
    {
      "cell_type": "code",
      "metadata": {
        "id": "5iC_TB0nG577"
      },
      "source": [
        "class CheckpointEveryNSteps(pl.Callback):\n",
        "    \"\"\"\n",
        "    Save a checkpoint every N steps, instead of Lightning's default that checkpoints\n",
        "    based on validation loss.\n",
        "    \"\"\"\n",
        "\n",
        "    def __init__(\n",
        "        self,\n",
        "        save_step_frequency,\n",
        "        prefix=\"N-Step-Checkpoint\",\n",
        "        use_modelcheckpoint_filename=False,\n",
        "    ):\n",
        "        \"\"\"\n",
        "        Args:\n",
        "            save_step_frequency: how often to save in steps\n",
        "            prefix: add a prefix to the name, only used if\n",
        "                use_modelcheckpoint_filename=False\n",
        "            use_modelcheckpoint_filename: just use the ModelCheckpoint callback's\n",
        "                default filename, don't use ours.\n",
        "        \"\"\"\n",
        "        self.save_step_frequency = save_step_frequency\n",
        "        self.prefix = prefix\n",
        "        self.use_modelcheckpoint_filename = use_modelcheckpoint_filename\n",
        "\n",
        "    def on_batch_end(self, trainer: pl.Trainer, _):\n",
        "        \"\"\" Check if we should save a checkpoint after every train batch \"\"\"\n",
        "        epoch = trainer.current_epoch\n",
        "        global_step = trainer.global_step\n",
        "        if global_step % self.save_step_frequency == 0:\n",
        "            if self.use_modelcheckpoint_filename:\n",
        "                filename = trainer.checkpoint_callback.filename\n",
        "            else:\n",
        "                filename = f\"{self.prefix}_{epoch}_{global_step}.ckpt\"\n",
        "            ckpt_path = os.path.join(trainer.checkpoint_callback.dirpath, filename)\n",
        "            trainer.save_checkpoint(ckpt_path)"
      ],
      "execution_count": null,
      "outputs": []
    },
    {
      "cell_type": "code",
      "metadata": {
        "id": "lMzj3l1JG9YI"
      },
      "source": [
        "seed_e(42)"
      ],
      "execution_count": null,
      "outputs": []
    },
    {
      "cell_type": "code",
      "metadata": {
        "colab": {
          "base_uri": "https://localhost:8080/"
        },
        "id": "ntpeBE2QG_BA",
        "outputId": "ccdf792a-585d-4a3a-f371-c40066f7981d"
      },
      "source": [
        "comet_logger = CometLogger(\n",
        "    save_dir='/content/log/',\n",
        "    api_key=\"23CU99n7TeyZdPeegNDlQ5aHf\",\n",
        "    project_name=\"dl-proj\",\n",
        "    workspace=\"etzelkut\",\n",
        "    # rest_api_key=os.environ[\"COMET_REST_KEY\"], # Optional\n",
        "    # experiment_name=\"default\" # Optional\n",
        ")"
      ],
      "execution_count": null,
      "outputs": [
        {
          "output_type": "stream",
          "text": [
            "CometLogger will be initialized in online mode\n"
          ],
          "name": "stderr"
        }
      ]
    },
    {
      "cell_type": "code",
      "metadata": {
        "colab": {
          "base_uri": "https://localhost:8080/"
        },
        "id": "Zc56-ts4HAU4",
        "outputId": "cd76f2ed-8bba-4ceb-fcec-4e79c69ff71d"
      },
      "source": [
        "dataset_pl = Adience_pl_dataset(hyperparams)\n",
        "dataset_pl.prepare_data()\n",
        "dataset_pl.setup()\n",
        "train_loader = dataset_pl.train_dataloader()\n",
        "steps_per_epoch = int(len(train_loader))\n",
        "print(steps_per_epoch)"
      ],
      "execution_count": null,
      "outputs": [
        {
          "output_type": "stream",
          "text": [
            "already prepared but later add\n",
            "ready\n",
            "198\n"
          ],
          "name": "stdout"
        }
      ]
    },
    {
      "cell_type": "code",
      "metadata": {
        "colab": {
          "base_uri": "https://localhost:8080/"
        },
        "id": "Lt9ZGXWQHLBP",
        "outputId": "f13d395d-a3b7-41c5-95e6-bed3df428cd0"
      },
      "source": [
        "checkpoint_callback = ModelCheckpoint(\n",
        "                                      monitor='val_loss',\n",
        "                                      save_last=True, \n",
        "                                      dirpath= \"/content/drive/MyDrive/dl_proj/gg/\",#os.path.join(path, \"/checkpoints\"),\n",
        "                                      filename='samplemodel{epoch}.ckpt',\n",
        "                                      save_top_k=3,\n",
        "                                      mode='min',\n",
        "                                      )\n",
        "every_epoch = CheckpointEveryNSteps(save_step_frequency = steps_per_epoch, use_modelcheckpoint_filename = True)"
      ],
      "execution_count": null,
      "outputs": [
        {
          "output_type": "stream",
          "text": [
            "/usr/local/lib/python3.6/dist-packages/pytorch_lightning/utilities/distributed.py:45: UserWarning: Checkpoint directory /content/drive/MyDrive/dl_proj/gg/ exists and is not empty. With save_top_k=3, all files in this directory will be deleted when a checkpoint is saved!\n",
            "  warnings.warn(*args, **kwargs)\n"
          ],
          "name": "stderr"
        }
      ]
    },
    {
      "cell_type": "code",
      "metadata": {
        "colab": {
          "base_uri": "https://localhost:8080/"
        },
        "id": "P5I52wPhHCJv",
        "outputId": "004fa761-0209-46d6-eac3-21851599d30c"
      },
      "source": [
        "model = Age_Gender_pl(hyperparams, steps_per_epoch = steps_per_epoch)\n",
        "#lr_monitor = LearningRateMonitor(logging_interval='step')"
      ],
      "execution_count": null,
      "outputs": [
        {
          "output_type": "stream",
          "text": [
            "performer\n",
            "glu\n"
          ],
          "name": "stdout"
        }
      ]
    },
    {
      "cell_type": "code",
      "metadata": {
        "colab": {
          "base_uri": "https://localhost:8080/"
        },
        "id": "yw1JBa5lHisH",
        "outputId": "8e417256-f06b-4103-a6e4-93ec69bdddc3"
      },
      "source": [
        "trainer = Trainer(callbacks=[checkpoint_callback, every_epoch], #lr_monitor],\n",
        "                    logger=comet_logger,\n",
        "                    gpus=1,\n",
        "                    profiler=True,\n",
        "                    #auto_lr_find=True, #set hparams\n",
        "                    #gradient_clip_val=0.5,\n",
        "                    check_val_every_n_epoch=2,\n",
        "                    #early_stop_callback=True,\n",
        "                    max_epochs = hyperparams.epochs,\n",
        "                    #min_epochs=400,\n",
        "                    progress_bar_refresh_rate = 0,\n",
        "                    deterministic=True,)"
      ],
      "execution_count": null,
      "outputs": [
        {
          "output_type": "stream",
          "text": [
            "/usr/local/lib/python3.6/dist-packages/pytorch_lightning/utilities/distributed.py:45: UserWarning: You have set progress_bar_refresh_rate < 20 on Google Colab. This may crash. Consider using progress_bar_refresh_rate >= 20 in Trainer.\n",
            "  warnings.warn(*args, **kwargs)\n",
            "GPU available: True, used: True\n",
            "TPU available: False, using: 0 TPU cores\n",
            "LOCAL_RANK: 0 - CUDA_VISIBLE_DEVICES: [0]\n"
          ],
          "name": "stderr"
        }
      ]
    },
    {
      "cell_type": "code",
      "metadata": {
        "colab": {
          "base_uri": "https://localhost:8080/"
        },
        "id": "KY4HcJohHNpv",
        "outputId": "06a9e990-91b4-4f56-82c6-1e48fffc3b88"
      },
      "source": [
        "trainer.fit(model, dataset_pl)"
      ],
      "execution_count": null,
      "outputs": [
        {
          "output_type": "stream",
          "text": [
            "COMET INFO: Experiment is live on comet.ml https://www.comet.ml/etzelkut/dl-proj/d741d2b4f4144166b6397e633901dfa0\n",
            "\n",
            "\n",
            "  | Name    | Type             | Params\n",
            "---------------------------------------------\n",
            "0 | network | Model_dl         | 32.3 M\n",
            "1 | loss    | CrossEntropyLoss | 0     \n",
            "/usr/local/lib/python3.6/dist-packages/pytorch_lightning/utilities/distributed.py:45: UserWarning: Your val_dataloader has `shuffle=True`, it is best practice to turn this off for validation and test dataloaders.\n",
            "  warnings.warn(*args, **kwargs)\n"
          ],
          "name": "stderr"
        }
      ]
    },
    {
      "cell_type": "code",
      "metadata": {
        "id": "i0woLHQ-Hlkm"
      },
      "source": [
        "checkpoint_name = os.path.join(\"/content/drive/MyDrive/dl_proj/gg\", 'manual_save' + str(228) + '.ckpt')\n",
        "trainer.save_checkpoint(checkpoint_name)"
      ],
      "execution_count": null,
      "outputs": []
    },
    {
      "cell_type": "code",
      "metadata": {
        "colab": {
          "base_uri": "https://localhost:8080/"
        },
        "id": "CokhAV7FHn3D",
        "outputId": "1dbaf532-46a3-4aec-8163-6db730a7b93e"
      },
      "source": [
        "trainer.test()"
      ],
      "execution_count": null,
      "outputs": [
        {
          "output_type": "stream",
          "text": [
            "COMET INFO: Experiment is live on comet.ml https://www.comet.ml/etzelkut/dl-proj/a7a31a53fcc644da9c2609c515175e88\n",
            "\n",
            "/usr/local/lib/python3.6/dist-packages/pytorch_lightning/utilities/distributed.py:45: UserWarning: Your test_dataloader has `shuffle=True`, it is best practice to turn this off for validation and test dataloaders.\n",
            "  warnings.warn(*args, **kwargs)\n"
          ],
          "name": "stderr"
        },
        {
          "output_type": "stream",
          "text": [
            "--------------------------------------------------------------------------------\n",
            "DATALOADER:0 TEST RESULTS\n",
            "{'epoch_now': 58,\n",
            " 'test_acc': tensor(28.1821, device='cuda:0'),\n",
            " 'test_loss': tensor(1.9430, device='cuda:0'),\n",
            " 'train_acc': tensor(55.2302, device='cuda:0'),\n",
            " 'train_loss': tensor(1.3213, device='cuda:0'),\n",
            " 'train_loss_epoch': tensor(1.1964, device='cuda:0'),\n",
            " 'train_loss_step': tensor(1.3213, device='cuda:0'),\n",
            " 'val_loss': tensor(1.2991, device='cuda:0'),\n",
            " 'vall_acc': tensor(51.7145, device='cuda:0')}\n",
            "--------------------------------------------------------------------------------\n"
          ],
          "name": "stdout"
        },
        {
          "output_type": "execute_result",
          "data": {
            "text/plain": [
              "[{'epoch_now': 58,\n",
              "  'test_acc': 28.182090759277344,\n",
              "  'test_loss': 1.942962884902954,\n",
              "  'train_acc': 55.23016357421875,\n",
              "  'train_loss': 1.3213006258010864,\n",
              "  'train_loss_epoch': 1.1964330673217773,\n",
              "  'train_loss_step': 1.3213006258010864,\n",
              "  'val_loss': 1.2991019487380981,\n",
              "  'vall_acc': 51.71448516845703}]"
            ]
          },
          "metadata": {
            "tags": []
          },
          "execution_count": 12
        }
      ]
    }
  ]
}